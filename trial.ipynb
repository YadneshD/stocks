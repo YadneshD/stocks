{
 "cells": [
  {
   "cell_type": "code",
   "execution_count": 1,
   "metadata": {},
   "outputs": [],
   "source": [
    "import pandas as pd\n",
    "import json\n",
    "import numpy as np"
   ]
  },
  {
   "cell_type": "code",
   "execution_count": 2,
   "metadata": {},
   "outputs": [
    {
     "name": "stdout",
     "output_type": "stream",
     "text": [
      "{'Meta Data': {'1. Information': 'Daily Prices (open, high, low, close) and Volumes', '2. Symbol': '533206.BSE', '3. Last Refreshed': '2023-11-10', '4. Output Size': 'Compact', '5. Time Zone': 'US/Eastern'}, 'Time Series (Daily)': {'2023-11-10': {'1. open': '74.2000', '2. high': '76.4500', '3. low': '72.6000', '4. close': '75.8000', '5. volume': '2430982'}, '2023-11-09': {'1. open': '77.4400', '2. high': '77.4400', '3. low': '73.8000', '4. close': '74.6900', '5. volume': '842211'}, '2023-11-08': {'1. open': '77.3400', '2. high': '78.5300', '3. low': '76.1500', '4. close': '76.8600', '5. volume': '2618685'}, '2023-11-07': {'1. open': '74.0400', '2. high': '77.3000', '3. low': '73.5900', '4. close': '76.5000', '5. volume': '3378546'}, '2023-11-06': {'1. open': '74.3500', '2. high': '75.6000', '3. low': '73.1000', '4. close': '73.4500', '5. volume': '1784276'}, '2023-11-03': {'1. open': '75.4000', '2. high': '75.5300', '3. low': '73.5500', '4. close': '73.8600', '5. volume': '860027'}, '2023-11-02': {'1. open': '71.6500', '2. high': '75.2500', '3. low': '71.4400', '4. close': '74.8300', '5. volume': '3886501'}, '2023-11-01': {'1. open': '71.4400', '2. high': '72.5000', '3. low': '70.5500', '4. close': '71.0600', '5. volume': '1021582'}, '2023-10-31': {'1. open': '69.5000', '2. high': '71.5500', '3. low': '69.4700', '4. close': '70.9900', '5. volume': '1465627'}, '2023-10-30': {'1. open': '69.7000', '2. high': '70.1000', '3. low': '67.6100', '4. close': '69.6300', '5. volume': '1597340'}, '2023-10-27': {'1. open': '68.0900', '2. high': '70.3800', '3. low': '67.4000', '4. close': '69.4400', '5. volume': '2067327'}, '2023-10-26': {'1. open': '66.2400', '2. high': '67.9900', '3. low': '63.3800', '4. close': '67.6500', '5. volume': '2879474'}, '2023-10-25': {'1. open': '66.6400', '2. high': '68.5500', '3. low': '63.6500', '4. close': '66.7000', '5. volume': '4296256'}, '2023-10-23': {'1. open': '75.3000', '2. high': '75.7200', '3. low': '64.8300', '4. close': '66.6300', '5. volume': '5015350'}, '2023-10-20': {'1. open': '74.9000', '2. high': '76.3000', '3. low': '74.2000', '4. close': '75.5400', '5. volume': '3059665'}, '2023-10-19': {'1. open': '74.0300', '2. high': '75.8000', '3. low': '73.1200', '4. close': '74.9600', '5. volume': '1532962'}, '2023-10-18': {'1. open': '75.1600', '2. high': '76.2700', '3. low': '73.1400', '4. close': '74.2100', '5. volume': '2642456'}, '2023-10-17': {'1. open': '76.7000', '2. high': '77.7000', '3. low': '74.1500', '4. close': '74.9100', '5. volume': '3879876'}, '2023-10-16': {'1. open': '73.4000', '2. high': '76.3000', '3. low': '72.7200', '4. close': '75.8700', '5. volume': '4269159'}, '2023-10-13': {'1. open': '71.7000', '2. high': '74.7000', '3. low': '71.5200', '4. close': '73.0500', '5. volume': '6312235'}, '2023-10-12': {'1. open': '70.1700', '2. high': '71.8300', '3. low': '69.6500', '4. close': '70.8700', '5. volume': '3430283'}, '2023-10-11': {'1. open': '71.4900', '2. high': '71.5400', '3. low': '69.0000', '4. close': '69.8000', '5. volume': '1194149'}, '2023-10-10': {'1. open': '70.2500', '2. high': '71.6400', '3. low': '69.8500', '4. close': '71.0000', '5. volume': '1150902'}, '2023-10-09': {'1. open': '70.5700', '2. high': '71.2500', '3. low': '69.2000', '4. close': '69.6400', '5. volume': '2687783'}, '2023-10-06': {'1. open': '72.7100', '2. high': '73.5000', '3. low': '72.0000', '4. close': '72.7000', '5. volume': '2017044'}, '2023-10-05': {'1. open': '70.7300', '2. high': '73.4000', '3. low': '69.5200', '4. close': '72.7500', '5. volume': '3271273'}, '2023-10-04': {'1. open': '72.1900', '2. high': '72.1900', '3. low': '69.1800', '4. close': '70.1100', '5. volume': '1808613'}, '2023-10-03': {'1. open': '72.9900', '2. high': '73.6600', '3. low': '71.7100', '4. close': '72.3000', '5. volume': '2433068'}, '2023-09-29': {'1. open': '73.3000', '2. high': '74.3500', '3. low': '72.3200', '4. close': '73.1900', '5. volume': '3992825'}, '2023-09-28': {'1. open': '70.8000', '2. high': '73.2500', '3. low': '69.8800', '4. close': '72.4400', '5. volume': '2651396'}, '2023-09-27': {'1. open': '68.5600', '2. high': '70.3400', '3. low': '68.2900', '4. close': '69.8800', '5. volume': '3232553'}, '2023-09-26': {'1. open': '70.0000', '2. high': '70.7000', '3. low': '67.6000', '4. close': '68.5500', '5. volume': '4306667'}, '2023-09-25': {'1. open': '72.4000', '2. high': '73.1500', '3. low': '69.4000', '4. close': '69.8500', '5. volume': '5086976'}, '2023-09-22': {'1. open': '69.6000', '2. high': '74.0300', '3. low': '69.4500', '4. close': '72.2700', '5. volume': '10575050'}, '2023-09-21': {'1. open': '74.6900', '2. high': '75.4500', '3. low': '70.7500', '4. close': '71.0800', '5. volume': '10654340'}, '2023-09-20': {'1. open': '75.7500', '2. high': '83.6900', '3. low': '75.0500', '4. close': '81.7500', '5. volume': '6262265'}, '2023-09-18': {'1. open': '75.1100', '2. high': '80.9000', '3. low': '73.7000', '4. close': '76.5600', '5. volume': '6393360'}, '2023-09-15': {'1. open': '77.6000', '2. high': '77.6000', '3. low': '75.0000', '4. close': '75.4000', '5. volume': '2648834'}, '2023-09-14': {'1. open': '77.9400', '2. high': '78.4500', '3. low': '74.4600', '4. close': '77.4300', '5. volume': '3123907'}, '2023-09-13': {'1. open': '70.7100', '2. high': '76.8000', '3. low': '70.0000', '4. close': '75.8900', '5. volume': '9209760'}, '2023-09-12': {'1. open': '81.5000', '2. high': '83.1800', '3. low': '68.5000', '4. close': '70.4500', '5. volume': '12577900'}, '2023-09-11': {'1. open': '66.8500', '2. high': '76.8000', '3. low': '66.3000', '4. close': '76.8000', '5. volume': '13034680'}, '2023-09-08': {'1. open': '63.5100', '2. high': '64.4000', '3. low': '63.0900', '4. close': '64.0000', '5. volume': '565000'}, '2023-09-07': {'1. open': '62.0100', '2. high': '64.1500', '3. low': '62.0100', '4. close': '63.4300', '5. volume': '1080212'}, '2023-09-06': {'1. open': '63.8100', '2. high': '64.5000', '3. low': '61.3500', '4. close': '62.0600', '5. volume': '1630396'}, '2023-09-05': {'1. open': '65.7900', '2. high': '65.7900', '3. low': '63.2500', '4. close': '64.0200', '5. volume': '1650051'}, '2023-09-04': {'1. open': '63.7500', '2. high': '67.2900', '3. low': '63.6900', '4. close': '65.0000', '5. volume': '2560265'}, '2023-09-01': {'1. open': '62.7500', '2. high': '65.1000', '3. low': '61.9000', '4. close': '63.2300', '5. volume': '1518353'}, '2023-08-31': {'1. open': '63.0900', '2. high': '63.2100', '3. low': '61.6000', '4. close': '62.6100', '5. volume': '686660'}, '2023-08-30': {'1. open': '62.3000', '2. high': '63.7500', '3. low': '61.2000', '4. close': '62.3200', '5. volume': '1399861'}, '2023-08-29': {'1. open': '62.5000', '2. high': '63.8000', '3. low': '61.0000', '4. close': '61.3700', '5. volume': '4020693'}, '2023-08-28': {'1. open': '56.6100', '2. high': '61.2500', '3. low': '56.6100', '4. close': '60.8000', '5. volume': '1685076'}, '2023-08-25': {'1. open': '57.5600', '2. high': '58.4000', '3. low': '56.4000', '4. close': '56.8400', '5. volume': '1311939'}, '2023-08-24': {'1. open': '58.5600', '2. high': '59.7800', '3. low': '58.3100', '4. close': '58.5600', '5. volume': '1587309'}, '2023-08-23': {'1. open': '59.2500', '2. high': '60.3800', '3. low': '58.0500', '4. close': '58.3500', '5. volume': '1277768'}, '2023-08-22': {'1. open': '55.5600', '2. high': '59.6500', '3. low': '55.2000', '4. close': '59.0100', '5. volume': '2027565'}, '2023-08-21': {'1. open': '56.5000', '2. high': '56.6500', '3. low': '55.0000', '4. close': '55.4600', '5. volume': '746339'}, '2023-08-18': {'1. open': '56.9600', '2. high': '57.4000', '3. low': '55.7000', '4. close': '56.2000', '5. volume': '1058506'}, '2023-08-17': {'1. open': '58.0000', '2. high': '58.0000', '3. low': '56.3200', '4. close': '56.9000', '5. volume': '1119796'}, '2023-08-16': {'1. open': '57.7500', '2. high': '58.3700', '3. low': '57.1500', '4. close': '57.7000', '5. volume': '1147689'}, '2023-08-14': {'1. open': '56.3700', '2. high': '57.8000', '3. low': '54.8000', '4. close': '57.5400', '5. volume': '2385994'}, '2023-08-11': {'1. open': '56.2100', '2. high': '56.4400', '3. low': '55.4600', '4. close': '55.6500', '5. volume': '1421316'}, '2023-08-10': {'1. open': '53.7600', '2. high': '56.7500', '3. low': '53.5100', '4. close': '54.4600', '5. volume': '1589455'}, '2023-08-09': {'1. open': '56.3800', '2. high': '56.3800', '3. low': '52.6900', '4. close': '54.5300', '5. volume': '2448889'}, '2023-08-08': {'1. open': '56.5000', '2. high': '57.1700', '3. low': '55.5500', '4. close': '55.9100', '5. volume': '907634'}, '2023-08-07': {'1. open': '57.5000', '2. high': '57.5000', '3. low': '56.0000', '4. close': '56.6300', '5. volume': '1132333'}, '2023-08-04': {'1. open': '58.5000', '2. high': '59.3000', '3. low': '56.5400', '4. close': '57.0900', '5. volume': '1765216'}, '2023-08-03': {'1. open': '54.6100', '2. high': '58.0000', '3. low': '54.0800', '4. close': '57.3800', '5. volume': '2303439'}, '2023-08-02': {'1. open': '56.8500', '2. high': '56.8500', '3. low': '54.2300', '4. close': '55.0700', '5. volume': '969359'}, '2023-08-01': {'1. open': '57.7400', '2. high': '57.7400', '3. low': '56.6300', '4. close': '56.9500', '5. volume': '1301779'}, '2023-07-31': {'1. open': '56.7800', '2. high': '58.1800', '3. low': '56.3300', '4. close': '57.3500', '5. volume': '2194058'}, '2023-07-28': {'1. open': '56.0000', '2. high': '58.2500', '3. low': '55.5000', '4. close': '55.8100', '5. volume': '2539887'}, '2023-07-27': {'1. open': '58.2900', '2. high': '58.4500', '3. low': '55.8000', '4. close': '56.0200', '5. volume': '2600937'}, '2023-07-26': {'1. open': '60.5000', '2. high': '60.5000', '3. low': '57.2500', '4. close': '58.0800', '5. volume': '2997764'}, '2023-07-25': {'1. open': '60.0000', '2. high': '62.7500', '3. low': '59.0000', '4. close': '59.8500', '5. volume': '9539648'}, '2023-07-24': {'1. open': '52.6500', '2. high': '59.8000', '3. low': '52.6500', '4. close': '57.1400', '5. volume': '6555979'}, '2023-07-21': {'1. open': '50.1300', '2. high': '50.5500', '3. low': '48.8700', '4. close': '50.1000', '5. volume': '1014448'}, '2023-07-20': {'1. open': '48.9300', '2. high': '50.7100', '3. low': '48.2300', '4. close': '50.2600', '5. volume': '2493463'}, '2023-07-19': {'1. open': '46.3800', '2. high': '50.0800', '3. low': '46.3700', '4. close': '48.7100', '5. volume': '3922195'}, '2023-07-18': {'1. open': '46.7500', '2. high': '46.7500', '3. low': '45.3200', '4. close': '45.8000', '5. volume': '2028761'}, '2023-07-17': {'1. open': '46.3900', '2. high': '47.0400', '3. low': '45.9400', '4. close': '46.4700', '5. volume': '355807'}, '2023-07-14': {'1. open': '46.0000', '2. high': '46.2500', '3. low': '45.4200', '4. close': '45.8200', '5. volume': '635562'}, '2023-07-13': {'1. open': '48.0100', '2. high': '48.4500', '3. low': '45.3900', '4. close': '45.7000', '5. volume': '1372615'}, '2023-07-12': {'1. open': '48.4000', '2. high': '49.2700', '3. low': '47.6200', '4. close': '47.9900', '5. volume': '1299313'}, '2023-07-11': {'1. open': '46.8700', '2. high': '48.7900', '3. low': '46.6600', '4. close': '48.3200', '5. volume': '1355128'}, '2023-07-10': {'1. open': '48.0200', '2. high': '48.4500', '3. low': '46.5700', '4. close': '46.9900', '5. volume': '746377'}, '2023-07-07': {'1. open': '47.0800', '2. high': '48.4500', '3. low': '45.6400', '4. close': '47.8500', '5. volume': '2272551'}, '2023-07-06': {'1. open': '44.2000', '2. high': '47.7500', '3. low': '44.0900', '4. close': '47.4200', '5. volume': '2982939'}, '2023-07-05': {'1. open': '42.0500', '2. high': '44.3900', '3. low': '41.4000', '4. close': '43.9800', '5. volume': '2339165'}, '2023-07-04': {'1. open': '42.5000', '2. high': '43.6000', '3. low': '41.8100', '4. close': '42.0000', '5. volume': '1440647'}, '2023-07-03': {'1. open': '41.1700', '2. high': '43.3500', '3. low': '40.6100', '4. close': '42.3900', '5. volume': '2487001'}, '2023-06-30': {'1. open': '41.0500', '2. high': '41.5000', '3. low': '40.6600', '4. close': '40.9400', '5. volume': '724135'}, '2023-06-28': {'1. open': '41.5100', '2. high': '41.8900', '3. low': '40.2600', '4. close': '40.5900', '5. volume': '1067752'}, '2023-06-27': {'1. open': '42.2100', '2. high': '42.3500', '3. low': '41.0800', '4. close': '41.2500', '5. volume': '1557221'}, '2023-06-26': {'1. open': '39.1600', '2. high': '42.9000', '3. low': '39.1600', '4. close': '42.0200', '5. volume': '6501944'}, '2023-06-23': {'1. open': '40.0000', '2. high': '40.1900', '3. low': '39.0100', '4. close': '39.4500', '5. volume': '1943799'}, '2023-06-22': {'1. open': '40.7100', '2. high': '41.3400', '3. low': '39.6000', '4. close': '40.1400', '5. volume': '2643547'}, '2023-06-21': {'1. open': '39.5000', '2. high': '41.0900', '3. low': '39.4100', '4. close': '40.7300', '5. volume': '7330309'}, '2023-06-20': {'1. open': '38.3400', '2. high': '39.5500', '3. low': '38.1300', '4. close': '39.3000', '5. volume': '3488614'}, '2023-06-19': {'1. open': '38.7800', '2. high': '39.4000', '3. low': '38.1000', '4. close': '38.5000', '5. volume': '2165441'}}} <class 'dict'>\n"
     ]
    }
   ],
   "source": []
  },
  {
   "cell_type": "code",
   "execution_count": 3,
   "metadata": {},
   "outputs": [
    {
     "data": {
      "text/html": [
       "<div>\n",
       "<style scoped>\n",
       "    .dataframe tbody tr th:only-of-type {\n",
       "        vertical-align: middle;\n",
       "    }\n",
       "\n",
       "    .dataframe tbody tr th {\n",
       "        vertical-align: top;\n",
       "    }\n",
       "\n",
       "    .dataframe thead th {\n",
       "        text-align: right;\n",
       "    }\n",
       "</style>\n",
       "<table border=\"1\" class=\"dataframe\">\n",
       "  <thead>\n",
       "    <tr style=\"text-align: right;\">\n",
       "      <th></th>\n",
       "      <th>dates</th>\n",
       "      <th>price</th>\n",
       "    </tr>\n",
       "  </thead>\n",
       "  <tbody>\n",
       "    <tr>\n",
       "      <th>0</th>\n",
       "      <td>2023-11-10</td>\n",
       "      <td>75.80</td>\n",
       "    </tr>\n",
       "    <tr>\n",
       "      <th>1</th>\n",
       "      <td>2023-11-09</td>\n",
       "      <td>74.69</td>\n",
       "    </tr>\n",
       "    <tr>\n",
       "      <th>2</th>\n",
       "      <td>2023-11-08</td>\n",
       "      <td>76.86</td>\n",
       "    </tr>\n",
       "    <tr>\n",
       "      <th>3</th>\n",
       "      <td>2023-11-07</td>\n",
       "      <td>76.50</td>\n",
       "    </tr>\n",
       "    <tr>\n",
       "      <th>4</th>\n",
       "      <td>2023-11-06</td>\n",
       "      <td>73.45</td>\n",
       "    </tr>\n",
       "  </tbody>\n",
       "</table>\n",
       "</div>"
      ],
      "text/plain": [
       "       dates  price\n",
       "0 2023-11-10  75.80\n",
       "1 2023-11-09  74.69\n",
       "2 2023-11-08  76.86\n",
       "3 2023-11-07  76.50\n",
       "4 2023-11-06  73.45"
      ]
     },
     "execution_count": 3,
     "metadata": {},
     "output_type": "execute_result"
    }
   ],
   "source": [
    "xdf.head()"
   ]
  },
  {
   "cell_type": "code",
   "execution_count": 4,
   "metadata": {},
   "outputs": [
    {
     "data": {
      "text/html": [
       "<div>\n",
       "<style scoped>\n",
       "    .dataframe tbody tr th:only-of-type {\n",
       "        vertical-align: middle;\n",
       "    }\n",
       "\n",
       "    .dataframe tbody tr th {\n",
       "        vertical-align: top;\n",
       "    }\n",
       "\n",
       "    .dataframe thead th {\n",
       "        text-align: right;\n",
       "    }\n",
       "</style>\n",
       "<table border=\"1\" class=\"dataframe\">\n",
       "  <thead>\n",
       "    <tr style=\"text-align: right;\">\n",
       "      <th></th>\n",
       "      <th>dates</th>\n",
       "      <th>price</th>\n",
       "    </tr>\n",
       "  </thead>\n",
       "  <tbody>\n",
       "    <tr>\n",
       "      <th>count</th>\n",
       "      <td>100</td>\n",
       "      <td>100.000000</td>\n",
       "    </tr>\n",
       "    <tr>\n",
       "      <th>mean</th>\n",
       "      <td>2023-08-29 16:33:36</td>\n",
       "      <td>61.133800</td>\n",
       "    </tr>\n",
       "    <tr>\n",
       "      <th>min</th>\n",
       "      <td>2023-06-19 00:00:00</td>\n",
       "      <td>38.500000</td>\n",
       "    </tr>\n",
       "    <tr>\n",
       "      <th>25%</th>\n",
       "      <td>2023-07-24 18:00:00</td>\n",
       "      <td>54.512500</td>\n",
       "    </tr>\n",
       "    <tr>\n",
       "      <th>50%</th>\n",
       "      <td>2023-08-29 12:00:00</td>\n",
       "      <td>61.715000</td>\n",
       "    </tr>\n",
       "    <tr>\n",
       "      <th>75%</th>\n",
       "      <td>2023-10-05 06:00:00</td>\n",
       "      <td>71.377500</td>\n",
       "    </tr>\n",
       "    <tr>\n",
       "      <th>max</th>\n",
       "      <td>2023-11-10 00:00:00</td>\n",
       "      <td>81.750000</td>\n",
       "    </tr>\n",
       "    <tr>\n",
       "      <th>std</th>\n",
       "      <td>NaN</td>\n",
       "      <td>11.809761</td>\n",
       "    </tr>\n",
       "  </tbody>\n",
       "</table>\n",
       "</div>"
      ],
      "text/plain": [
       "                     dates       price\n",
       "count                  100  100.000000\n",
       "mean   2023-08-29 16:33:36   61.133800\n",
       "min    2023-06-19 00:00:00   38.500000\n",
       "25%    2023-07-24 18:00:00   54.512500\n",
       "50%    2023-08-29 12:00:00   61.715000\n",
       "75%    2023-10-05 06:00:00   71.377500\n",
       "max    2023-11-10 00:00:00   81.750000\n",
       "std                    NaN   11.809761"
      ]
     },
     "execution_count": 4,
     "metadata": {},
     "output_type": "execute_result"
    }
   ],
   "source": [
    "xdf.describe()"
   ]
  },
  {
   "cell_type": "code",
   "execution_count": 5,
   "metadata": {},
   "outputs": [
    {
     "data": {
      "text/plain": [
       "{'week_count': [20,\n",
       "  19,\n",
       "  18,\n",
       "  17,\n",
       "  16,\n",
       "  15,\n",
       "  14,\n",
       "  13,\n",
       "  12,\n",
       "  11,\n",
       "  10,\n",
       "  9,\n",
       "  8,\n",
       "  7,\n",
       "  6,\n",
       "  5,\n",
       "  4,\n",
       "  3,\n",
       "  2,\n",
       "  1],\n",
       " 'start_date': [Timestamp('2023-11-10 00:00:00'),\n",
       "  Timestamp('2023-11-03 00:00:00'),\n",
       "  Timestamp('2023-10-27 00:00:00'),\n",
       "  Timestamp('2023-10-19 00:00:00'),\n",
       "  Timestamp('2023-10-12 00:00:00'),\n",
       "  Timestamp('2023-10-05 00:00:00'),\n",
       "  Timestamp('2023-09-27 00:00:00'),\n",
       "  Timestamp('2023-09-20 00:00:00'),\n",
       "  Timestamp('2023-09-12 00:00:00'),\n",
       "  Timestamp('2023-09-05 00:00:00'),\n",
       "  Timestamp('2023-08-29 00:00:00'),\n",
       "  Timestamp('2023-08-22 00:00:00'),\n",
       "  Timestamp('2023-08-14 00:00:00'),\n",
       "  Timestamp('2023-08-07 00:00:00'),\n",
       "  Timestamp('2023-07-31 00:00:00'),\n",
       "  Timestamp('2023-07-24 00:00:00'),\n",
       "  Timestamp('2023-07-17 00:00:00'),\n",
       "  Timestamp('2023-07-10 00:00:00'),\n",
       "  Timestamp('2023-07-03 00:00:00'),\n",
       "  Timestamp('2023-06-23 00:00:00')],\n",
       " 'average_price': [75.46000000000001,\n",
       "  72.074,\n",
       "  69.19200000000001,\n",
       "  74.6,\n",
       "  70.80199999999999,\n",
       "  72.158,\n",
       "  70.326,\n",
       "  77.40599999999999,\n",
       "  67.348,\n",
       "  63.43599999999999,\n",
       "  59.184000000000005,\n",
       "  57.05400000000001,\n",
       "  55.61800000000001,\n",
       "  56.624,\n",
       "  57.422000000000004,\n",
       "  50.402,\n",
       "  46.86,\n",
       "  45.647999999999996,\n",
       "  41.438,\n",
       "  39.624]}"
      ]
     },
     "execution_count": 5,
     "metadata": {},
     "output_type": "execute_result"
    }
   ],
   "source": [
    "# xdf.to_excel(\"ashokley_last_20weeks.xlsx\")\n",
    "\n",
    "week_averages = {\n",
    "    'week_count':[],\n",
    "    'start_date':[],\n",
    "    'average_price':[]\n",
    "    }\n",
    "\n",
    "week_count = 20\n",
    "for i in range(0,len(xdf),5):\n",
    "    try:\n",
    "        avg = np.mean(xdf.loc[i:i+4]['price'])\n",
    "        week_averages['average_price'].append(avg)\n",
    "        week_averages['week_count'].append(week_count)\n",
    "        week_averages['start_date'].append(xdf.loc[i]['dates'])\n",
    "        week_count -= 1\n",
    "    except Exception as err:\n",
    "        print(f\"Error at {i} - {err}\")\n",
    "            \n",
    "week_averages"
   ]
  },
  {
   "cell_type": "code",
   "execution_count": 6,
   "metadata": {},
   "outputs": [],
   "source": [
    "week_averages = pd.DataFrame(week_averages)\n",
    "# week_averages.to_excel('avg_ashokley_last_20weeks.xlsx')"
   ]
  },
  {
   "cell_type": "code",
   "execution_count": 1,
   "metadata": {},
   "outputs": [
    {
     "name": "stdout",
     "output_type": "stream",
     "text": [
      "{'Meta Data': {'1. Information': 'Daily Prices (open, high, low, close) and Volumes', '2. Symbol': 'ASHOKLEY.BSE', '3. Last Refreshed': '2023-11-29', '4. Output Size': 'Compact', '5. Time Zone': 'US/Eastern'}, 'Time Series (Daily)': {'2023-11-29': {'1. open': '179.3500', '2. high': '182.5000', '3. low': '178.5000', '4. close': '181.2000', '5. volume': '922417'}, '2023-11-28': {'1. open': '178.4000', '2. high': '181.0000', '3. low': '178.1500', '4. close': '179.0000', '5. volume': '588424'}, '2023-11-24': {'1. open': '178.0000', '2. high': '179.8500', '3. low': '175.8000', '4. close': '178.3500', '5. volume': '580471'}, '2023-11-23': {'1. open': '179.7500', '2. high': '179.7500', '3. low': '177.4000', '4. close': '177.9500', '5. volume': '222134'}, '2023-11-22': {'1. open': '179.7000', '2. high': '181.2000', '3. low': '176.4500', '4. close': '178.3000', '5. volume': '1083036'}, '2023-11-21': {'1. open': '172.9500', '2. high': '178.6500', '3. low': '172.4000', '4. close': '178.1500', '5. volume': '1117489'}, '2023-11-20': {'1. open': '175.2500', '2. high': '175.2500', '3. low': '170.9500', '4. close': '172.1500', '5. volume': '4512901'}, '2023-11-17': {'1. open': '175.0500', '2. high': '176.3000', '3. low': '173.4000', '4. close': '174.3000', '5. volume': '634427'}, '2023-11-16': {'1. open': '175.7000', '2. high': '176.0500', '3. low': '174.1000', '4. close': '174.4000', '5. volume': '159718'}, '2023-11-15': {'1. open': '176.2000', '2. high': '176.2000', '3. low': '173.8500', '4. close': '174.7000', '5. volume': '182131'}, '2023-11-13': {'1. open': '175.9500', '2. high': '175.9500', '3. low': '172.9000', '4. close': '173.9000', '5. volume': '499483'}, '2023-11-10': {'1. open': '171.9500', '2. high': '174.2500', '3. low': '168.6500', '4. close': '173.7500', '5. volume': '779606'}, '2023-11-09': {'1. open': '174.7500', '2. high': '174.7500', '3. low': '168.9500', '4. close': '170.4500', '5. volume': '661688'}, '2023-11-08': {'1. open': '170.0000', '2. high': '174.0000', '3. low': '169.2500', '4. close': '173.5500', '5. volume': '509115'}, '2023-11-07': {'1. open': '169.1000', '2. high': '169.6000', '3. low': '168.2500', '4. close': '168.8000', '5. volume': '102770'}, '2023-11-06': {'1. open': '169.9500', '2. high': '170.1500', '3. low': '168.8000', '4. close': '169.1000', '5. volume': '369503'}, '2023-11-03': {'1. open': '170.1500', '2. high': '171.1000', '3. low': '168.0000', '4. close': '168.3000', '5. volume': '432741'}, '2023-11-02': {'1. open': '166.4500', '2. high': '168.9500', '3. low': '166.2500', '4. close': '168.5000', '5. volume': '211869'}, '2023-11-01': {'1. open': '167.7000', '2. high': '167.7000', '3. low': '164.7000', '4. close': '164.9500', '5. volume': '321242'}, '2023-10-31': {'1. open': '168.9000', '2. high': '170.0000', '3. low': '167.0000', '4. close': '167.6500', '5. volume': '747522'}, '2023-10-30': {'1. open': '168.9500', '2. high': '169.0000', '3. low': '165.2000', '4. close': '167.9000', '5. volume': '229889'}, '2023-10-27': {'1. open': '167.9500', '2. high': '168.8500', '3. low': '165.7500', '4. close': '168.1000', '5. volume': '364781'}, '2023-10-26': {'1. open': '168.5000', '2. high': '168.8000', '3. low': '165.1500', '4. close': '166.5000', '5. volume': '542753'}, '2023-10-25': {'1. open': '170.5500', '2. high': '172.4000', '3. low': '166.6000', '4. close': '169.5000', '5. volume': '516941'}, '2023-10-23': {'1. open': '172.7500', '2. high': '173.2000', '3. low': '169.7500', '4. close': '170.4000', '5. volume': '471475'}, '2023-10-20': {'1. open': '176.2500', '2. high': '177.3000', '3. low': '171.5500', '4. close': '172.2000', '5. volume': '174553'}, '2023-10-19': {'1. open': '175.6000', '2. high': '177.1500', '3. low': '172.6000', '4. close': '176.6000', '5. volume': '297015'}, '2023-10-18': {'1. open': '177.5000', '2. high': '179.8000', '3. low': '175.3500', '4. close': '175.6500', '5. volume': '567821'}, '2023-10-17': {'1. open': '177.9500', '2. high': '178.3500', '3. low': '176.3000', '4. close': '176.6000', '5. volume': '172403'}, '2023-10-16': {'1. open': '176.9500', '2. high': '178.0000', '3. low': '175.7000', '4. close': '176.2000', '5. volume': '589028'}, '2023-10-13': {'1. open': '174.8500', '2. high': '176.8000', '3. low': '173.3500', '4. close': '175.8500', '5. volume': '564611'}, '2023-10-12': {'1. open': '177.4500', '2. high': '177.4500', '3. low': '173.8000', '4. close': '174.5500', '5. volume': '198776'}, '2023-10-11': {'1. open': '174.7500', '2. high': '176.7500', '3. low': '174.0000', '4. close': '176.2500', '5. volume': '463971'}, '2023-10-10': {'1. open': '172.0500', '2. high': '175.2000', '3. low': '172.0500', '4. close': '173.6500', '5. volume': '152728'}, '2023-10-09': {'1. open': '170.9500', '2. high': '173.0000', '3. low': '168.0000', '4. close': '171.5500', '5. volume': '237179'}, '2023-10-06': {'1. open': '174.2000', '2. high': '174.2000', '3. low': '170.8000', '4. close': '171.8500', '5. volume': '146174'}, '2023-10-05': {'1. open': '173.5500', '2. high': '175.1500', '3. low': '171.8000', '4. close': '172.2000', '5. volume': '795377'}, '2023-10-04': {'1. open': '177.6000', '2. high': '177.6000', '3. low': '171.8000', '4. close': '173.0500', '5. volume': '515295'}, '2023-10-03': {'1. open': '178.9500', '2. high': '179.9500', '3. low': '176.9000', '4. close': '177.6500', '5. volume': '470060'}, '2023-09-29': {'1. open': '175.7500', '2. high': '177.7000', '3. low': '174.3500', '4. close': '176.9500', '5. volume': '413606'}, '2023-09-28': {'1. open': '179.9000', '2. high': '179.9000', '3. low': '173.6000', '4. close': '174.1500', '5. volume': '649181'}, '2023-09-27': {'1. open': '179.5000', '2. high': '180.1000', '3. low': '178.6000', '4. close': '179.3000', '5. volume': '354064'}, '2023-09-26': {'1. open': '182.5500', '2. high': '182.5500', '3. low': '178.8000', '4. close': '179.4500', '5. volume': '401666'}, '2023-09-25': {'1. open': '178.7500', '2. high': '183.2000', '3. low': '176.5500', '4. close': '182.5500', '5. volume': '1483202'}, '2023-09-22': {'1. open': '179.9500', '2. high': '180.4500', '3. low': '177.9500', '4. close': '178.7500', '5. volume': '144655'}, '2023-09-21': {'1. open': '181.8500', '2. high': '182.9000', '3. low': '178.2500', '4. close': '179.1500', '5. volume': '224089'}, '2023-09-20': {'1. open': '183.6500', '2. high': '184.1000', '3. low': '181.1000', '4. close': '182.2000', '5. volume': '184046'}, '2023-09-18': {'1. open': '183.1500', '2. high': '183.9500', '3. low': '181.9500', '4. close': '183.6000', '5. volume': '1473672'}, '2023-09-15': {'1. open': '181.0000', '2. high': '183.7500', '3. low': '180.4500', '4. close': '183.1000', '5. volume': '358268'}, '2023-09-14': {'1. open': '180.0000', '2. high': '181.0500', '3. low': '179.0500', '4. close': '179.8500', '5. volume': '271316'}, '2023-09-13': {'1. open': '179.8000', '2. high': '181.2500', '3. low': '177.8000', '4. close': '179.5000', '5. volume': '268119'}, '2023-09-12': {'1. open': '185.9000', '2. high': '185.9000', '3. low': '176.9000', '4. close': '179.8500', '5. volume': '802350'}, '2023-09-11': {'1. open': '185.0000', '2. high': '185.3000', '3. low': '184.0000', '4. close': '184.8000', '5. volume': '190500'}, '2023-09-08': {'1. open': '184.2000', '2. high': '185.5000', '3. low': '182.6000', '4. close': '183.5500', '5. volume': '551508'}, '2023-09-07': {'1. open': '182.4000', '2. high': '183.4000', '3. low': '181.5500', '4. close': '182.0000', '5. volume': '440973'}, '2023-09-06': {'1. open': '183.4000', '2. high': '183.7500', '3. low': '181.5500', '4. close': '182.1500', '5. volume': '471024'}, '2023-09-05': {'1. open': '183.5500', '2. high': '184.9500', '3. low': '182.8000', '4. close': '183.4000', '5. volume': '351163'}, '2023-09-04': {'1. open': '185.8000', '2. high': '185.8000', '3. low': '183.1500', '4. close': '183.7000', '5. volume': '475302'}, '2023-09-01': {'1. open': '184.4500', '2. high': '185.4500', '3. low': '181.1500', '4. close': '184.1500', '5. volume': '510882'}, '2023-08-31': {'1. open': '189.5000', '2. high': '190.1500', '3. low': '182.0500', '4. close': '183.7000', '5. volume': '1121088'}, '2023-08-30': {'1. open': '189.3500', '2. high': '191.0000', '3. low': '187.4500', '4. close': '187.8000', '5. volume': '568084'}, '2023-08-29': {'1. open': '187.6500', '2. high': '189.9000', '3. low': '187.5000', '4. close': '188.1500', '5. volume': '881992'}, '2023-08-28': {'1. open': '186.1000', '2. high': '188.9000', '3. low': '185.8500', '4. close': '187.5500', '5. volume': '780884'}, '2023-08-25': {'1. open': '185.8500', '2. high': '187.5000', '3. low': '184.7000', '4. close': '186.0500', '5. volume': '566282'}, '2023-08-24': {'1. open': '187.7500', '2. high': '189.0500', '3. low': '185.2000', '4. close': '185.8500', '5. volume': '516011'}, '2023-08-23': {'1. open': '188.3000', '2. high': '189.2000', '3. low': '186.0000', '4. close': '187.7000', '5. volume': '425410'}, '2023-08-22': {'1. open': '187.2000', '2. high': '189.0000', '3. low': '186.6500', '4. close': '187.9500', '5. volume': '514757'}, '2023-08-21': {'1. open': '186.4500', '2. high': '188.9500', '3. low': '184.9000', '4. close': '186.9000', '5. volume': '421386'}, '2023-08-18': {'1. open': '188.1000', '2. high': '189.1500', '3. low': '185.0500', '4. close': '186.3500', '5. volume': '688741'}, '2023-08-17': {'1. open': '190.4500', '2. high': '190.9500', '3. low': '187.4500', '4. close': '188.9500', '5. volume': '492106'}, '2023-08-16': {'1. open': '186.5500', '2. high': '191.4500', '3. low': '185.5500', '4. close': '188.5000', '5. volume': '1237953'}, '2023-08-14': {'1. open': '187.5500', '2. high': '188.0000', '3. low': '182.1000', '4. close': '186.9000', '5. volume': '811426'}, '2023-08-11': {'1. open': '187.7000', '2. high': '191.0000', '3. low': '186.2500', '4. close': '187.1000', '5. volume': '920141'}, '2023-08-10': {'1. open': '187.1000', '2. high': '189.6000', '3. low': '185.5500', '4. close': '186.2500', '5. volume': '601350'}, '2023-08-09': {'1. open': '183.7000', '2. high': '188.2500', '3. low': '182.3500', '4. close': '187.5000', '5. volume': '611901'}, '2023-08-08': {'1. open': '182.6500', '2. high': '185.2000', '3. low': '182.3500', '4. close': '183.6500', '5. volume': '505946'}, '2023-08-07': {'1. open': '182.5500', '2. high': '183.6000', '3. low': '181.7000', '4. close': '183.0500', '5. volume': '511780'}, '2023-08-04': {'1. open': '181.2500', '2. high': '184.1500', '3. low': '180.6000', '4. close': '182.5000', '5. volume': '259820'}, '2023-08-03': {'1. open': '179.0500', '2. high': '182.5000', '3. low': '179.0500', '4. close': '180.9500', '5. volume': '967135'}, '2023-08-02': {'1. open': '186.0000', '2. high': '186.0500', '3. low': '178.8500', '4. close': '180.5500', '5. volume': '1136780'}, '2023-08-01': {'1. open': '184.2500', '2. high': '185.9000', '3. low': '182.8500', '4. close': '184.2500', '5. volume': '702854'}, '2023-07-31': {'1. open': '180.0500', '2. high': '184.5500', '3. low': '179.5500', '4. close': '184.0000', '5. volume': '873770'}, '2023-07-28': {'1. open': '182.0000', '2. high': '182.0000', '3. low': '177.6500', '4. close': '179.3000', '5. volume': '806757'}, '2023-07-27': {'1. open': '181.6000', '2. high': '182.9000', '3. low': '180.2500', '4. close': '181.9500', '5. volume': '648527'}, '2023-07-26': {'1. open': '182.9500', '2. high': '183.6500', '3. low': '180.5500', '4. close': '181.1500', '5. volume': '878950'}, '2023-07-25': {'1. open': '183.9500', '2. high': '185.2500', '3. low': '180.9500', '4. close': '182.8500', '5. volume': '729906'}, '2023-07-24': {'1. open': '184.6500', '2. high': '186.4500', '3. low': '181.9500', '4. close': '182.4000', '5. volume': '1597050'}, '2023-07-21': {'1. open': '176.0000', '2. high': '183.2500', '3. low': '174.6000', '4. close': '181.9000', '5. volume': '2547846'}, '2023-07-20': {'1. open': '174.3500', '2. high': '176.3000', '3. low': '171.5000', '4. close': '175.6500', '5. volume': '646425'}, '2023-07-19': {'1. open': '174.3500', '2. high': '174.8500', '3. low': '172.2500', '4. close': '173.2000', '5. volume': '420760'}, '2023-07-18': {'1. open': '174.9500', '2. high': '174.9500', '3. low': '171.3000', '4. close': '173.4000', '5. volume': '777817'}, '2023-07-17': {'1. open': '172.0500', '2. high': '174.7000', '3. low': '172.0000', '4. close': '172.4000', '5. volume': '760981'}, '2023-07-14': {'1. open': '170.3500', '2. high': '172.0000', '3. low': '168.3000', '4. close': '171.7000', '5. volume': '600932'}, '2023-07-13': {'1. open': '171.9500', '2. high': '173.0500', '3. low': '169.1500', '4. close': '170.3000', '5. volume': '635113'}, '2023-07-12': {'1. open': '167.6500', '2. high': '172.6500', '3. low': '167.3500', '4. close': '169.7500', '5. volume': '1946797'}, '2023-07-11': {'1. open': '164.0000', '2. high': '167.4500', '3. low': '162.1500', '4. close': '166.5000', '5. volume': '1289829'}, '2023-07-10': {'1. open': '163.6500', '2. high': '166.8500', '3. low': '162.7000', '4. close': '163.2000', '5. volume': '832470'}, '2023-07-07': {'1. open': '164.4000', '2. high': '165.0000', '3. low': '161.8500', '4. close': '163.6000', '5. volume': '383069'}, '2023-07-06': {'1. open': '165.1500', '2. high': '165.7500', '3. low': '163.3500', '4. close': '165.2000', '5. volume': '540099'}, '2023-07-05': {'1. open': '165.4000', '2. high': '165.4500', '3. low': '163.0500', '4. close': '165.1500', '5. volume': '511815'}}} <class 'dict'>\n",
      "None\n"
     ]
    },
    {
     "data": {
      "image/png": "[encoded data removed]",
      "text/plain": [
       "<Figure size 640x480 with 1 Axes>"
      ]
     },
     "metadata": {},
     "output_type": "display_data"
    }
   ],
   "source": [
    "from matplotlib import pyplot as plt\n",
    "import utils\n",
    "\n",
    "symbol_token = \"ASHOKLEY.BSE\"\n",
    "\n",
    "xdf = utils.get_last_100_days(symbol_token)\n",
    "\n",
    "fig, axes = plt.subplots(1,1)\n",
    "week_averages = utils.get_avg_last_20weeks(xdf, symbol_token)\n",
    "axes.plot(xdf[\"dates\"], xdf[\"price\"])\n",
    "axes.plot(week_averages['start_date'], week_averages['average'])\n",
    "plt.show()\n",
    "# xdf.plot(x=\"dates\", y=\"price\")"
   ]
  },
  {
   "cell_type": "code",
   "execution_count": 8,
   "metadata": {},
   "outputs": [],
   "source": [
    "ydf = utils.get_last_100_days(\"ASHOKLEY.BSE\")"
   ]
  },
  {
   "cell_type": "code",
   "execution_count": 9,
   "metadata": {},
   "outputs": [
    {
     "data": {
      "text/html": [
       "<div>\n",
       "<style scoped>\n",
       "    .dataframe tbody tr th:only-of-type {\n",
       "        vertical-align: middle;\n",
       "    }\n",
       "\n",
       "    .dataframe tbody tr th {\n",
       "        vertical-align: top;\n",
       "    }\n",
       "\n",
       "    .dataframe thead th {\n",
       "        text-align: right;\n",
       "    }\n",
       "</style>\n",
       "<table border=\"1\" class=\"dataframe\">\n",
       "  <thead>\n",
       "    <tr style=\"text-align: right;\">\n",
       "      <th></th>\n",
       "      <th>dates</th>\n",
       "      <th>price</th>\n",
       "    </tr>\n",
       "  </thead>\n",
       "  <tbody>\n",
       "    <tr>\n",
       "      <th>count</th>\n",
       "      <td>100</td>\n",
       "      <td>100.000000</td>\n",
       "    </tr>\n",
       "    <tr>\n",
       "      <th>mean</th>\n",
       "      <td>2023-06-23 17:45:36</td>\n",
       "      <td>163.519500</td>\n",
       "    </tr>\n",
       "    <tr>\n",
       "      <th>min</th>\n",
       "      <td>2023-04-12 00:00:00</td>\n",
       "      <td>136.250000</td>\n",
       "    </tr>\n",
       "    <tr>\n",
       "      <th>25%</th>\n",
       "      <td>2023-05-18 18:00:00</td>\n",
       "      <td>148.375000</td>\n",
       "    </tr>\n",
       "    <tr>\n",
       "      <th>50%</th>\n",
       "      <td>2023-06-22 12:00:00</td>\n",
       "      <td>163.750000</td>\n",
       "    </tr>\n",
       "    <tr>\n",
       "      <th>75%</th>\n",
       "      <td>2023-07-28 18:00:00</td>\n",
       "      <td>182.062500</td>\n",
       "    </tr>\n",
       "    <tr>\n",
       "      <th>max</th>\n",
       "      <td>2023-09-04 00:00:00</td>\n",
       "      <td>188.950000</td>\n",
       "    </tr>\n",
       "    <tr>\n",
       "      <th>std</th>\n",
       "      <td>NaN</td>\n",
       "      <td>17.067677</td>\n",
       "    </tr>\n",
       "  </tbody>\n",
       "</table>\n",
       "</div>"
      ],
      "text/plain": [
       "                     dates       price\n",
       "count                  100  100.000000\n",
       "mean   2023-06-23 17:45:36  163.519500\n",
       "min    2023-04-12 00:00:00  136.250000\n",
       "25%    2023-05-18 18:00:00  148.375000\n",
       "50%    2023-06-22 12:00:00  163.750000\n",
       "75%    2023-07-28 18:00:00  182.062500\n",
       "max    2023-09-04 00:00:00  188.950000\n",
       "std                    NaN   17.067677"
      ]
     },
     "execution_count": 9,
     "metadata": {},
     "output_type": "execute_result"
    }
   ],
   "source": [
    "ydf.describe()"
   ]
  },
  {
   "cell_type": "code",
   "execution_count": null,
   "metadata": {},
   "outputs": [],
   "source": []
  },
  {
   "cell_type": "code",
   "execution_count": null,
   "metadata": {},
   "outputs": [],
   "source": []
  }
 ],
 "metadata": {
  "kernelspec": {
   "display_name": "env39",
   "language": "python",
   "name": "python3"
  },
  "language_info": {
   "codemirror_mode": {
    "name": "ipython",
    "version": 3
   },
   "file_extension": ".py",
   "mimetype": "text/x-python",
   "name": "python",
   "nbconvert_exporter": "python",
   "pygments_lexer": "ipython3",
   "version": "3.9.17"
  },
  "orig_nbformat": 4
 },
 "nbformat": 4,
 "nbformat_minor": 2
}
